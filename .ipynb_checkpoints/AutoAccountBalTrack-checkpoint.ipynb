{
 "cells": [
  {
   "cell_type": "markdown",
   "metadata": {
    "collapsed": false
   },
   "source": [
    "# Extract Reece Account Balance"
   ]
  },
  {
   "cell_type": "code",
   "execution_count": 149,
   "metadata": {
    "collapsed": false
   },
   "outputs": [
    {
     "name": "stdout",
     "output_type": "stream",
     "text": [
      "Reece Bill due End of Month = $1,686.69\n",
      "Reece Account Balance since last bill = $1,273.02\n"
     ]
    }
   ],
   "source": [
    "import smtplib\n",
    "import time\n",
    "import calendar\n",
    "import smtplib\n",
    "import os\n",
    "\n",
    "#load config details \n",
    "file = open('../../../Teal_config/config.txt', 'r')\n",
    "\n",
    "Filecontents=file.read()\n",
    "Token=[Filecontents[6:26], Filecontents[34:40], Filecontents[50:71],Filecontents[83:103], Filecontents[111:200]]\n",
    "\n",
    "\n",
    "# Get data from website\n",
    "from six.moves.urllib.request import urlopen\n",
    "link = Token[4]\n",
    "response = urlopen(link)\n",
    "content = response.read()\n",
    "#Convert content to a string\n",
    "str1 = content.decode(\"utf-8\")\n",
    "\n",
    "#Find index of RECENT in the webpage text\n",
    "RecentInd=str1.find(\"RECENT\")\n",
    "\n",
    "#Find the next $ after recent\n",
    "DollarInd=str1.find(\"$\", RecentInd)\n",
    "#Find the next < after $ (this marks the end of the wanted numbers)\n",
    "triInd=str1.find(\"<\", DollarInd)\n",
    "\n",
    "#Find the balance\n",
    "DollarBal=str1[DollarInd:triInd]\n",
    "\n",
    "#Find the end of month balance\n",
    "EOMInd=str1.find(\"Due End Of Month\")\n",
    "DollarEOMInd=str1.find(\"$\", EOMInd)\n",
    "triIndEOM=str1.find(\"<\", DollarEOMInd)\n",
    "DollarEOMBal=str1[DollarEOMInd:triIndEOM]\n",
    "\n",
    "#Extract current date and time\n",
    "date = time.strftime(\"%d/%m/%Y\")\n",
    "timenow = time.strftime(\"%X\")\n",
    "#Write Dollar Balance into a file\n",
    "f= open(\"ReeceBal.txt\",\"w+\")\n",
    "f.write(\"Reece Australia Pty Ltd, ABN 84 004 097 090\\n\")\n",
    "f.write(\"Date and time = %s, %s\\n\\n\" % (date, timenow))\n",
    "f.write(\"Reece Bill due End of Month is %s\\r\\n\" % DollarEOMBal)\n",
    "f.write(\"Reece Account Balance since last bill %s\\r\\n\" % DollarBal)\n",
    "f.close() \n",
    "\n",
    "print (\"Reece Bill due End of Month = %s\" % DollarEOMBal)\n",
    "print (\"Reece Account Balance since last bill = %s\" % DollarBal)\n",
    "\n",
    "## Email details from gmail\n",
    "\n",
    "\n",
    "## dd/mm/yyyy format\n",
    "#print (time.strftime(\"%d/%m/%Y\"))\n",
    "date = time.strftime(\"%d/%m/%Y\")\n",
    "monthyr = time.strftime(\"%b %Y\")\n",
    "\n",
    "\n",
    "from email.mime.multipart import MIMEMultipart\n",
    "from email.mime.text import MIMEText\n",
    "from email.mime.base import MIMEBase\n",
    "from email import encoders\n",
    "#from email.MIMEMultipart import MIMEMultipart\n",
    "#from email.MIMEText import MIMEText\n",
    " \n",
    "try: \n",
    "    fromaddr = Token[0]\n",
    "    toaddr = Token[2]  #tolist =[\"one@one.org\",\"two@two.org\",\"three@three.org\",\"four@four.org\"]\n",
    "    ccaddr = Token[0]\n",
    "    msg = MIMEMultipart()\n",
    "    msg['From'] = fromaddr\n",
    "    msg['To'] = toaddr\n",
    "    msg['Cc'] = ccaddr\n",
    "    msg['Subject'] = \"Reece Account Bill\"\n",
    "\n",
    "    #body = \"Reece Account Bill\\n%s\\nAmount Due since last email %s\" % (date, DollarBal)\n",
    "    body = \"\"\"REECE ACCOUNT BILL \\n\n",
    "            Reece Australia Pty Ltd, ABN 84 004 097 090\\n\\n\n",
    "            Due End of Month (due end %s) = %s\\n \n",
    "            Reece Account Balance since last bill (up to %s) = %s\"\"\" % (monthyr,DollarEOMBal,date,DollarBal) \n",
    "    msg.attach(MIMEText(body, 'plain'))\n",
    "\n",
    "    #attach file to email\n",
    "    filename = \"ReeceBal.txt\"\n",
    "    attachment = open(\"ReeceBal.txt\", \"r\")\n",
    "\n",
    "    part = MIMEBase('application', 'octet-stream')\n",
    "    part.set_payload((attachment).read())\n",
    "    encoders.encode_base64(part)\n",
    "    part.add_header('Content-Disposition', \"attachment; filename= %s\" % filename)\n",
    "\n",
    "    msg.attach(part)\n",
    "\n",
    "    server = smtplib.SMTP('smtp.gmail.com', 587)\n",
    "    server.starttls()\n",
    "    server.login(fromaddr, Token[1])\n",
    "    text = msg.as_string()\n",
    "    server.sendmail(fromaddr, toaddr, text)\n",
    "    server.quit()\n",
    "except:  \n",
    "    print('Something went wrong...')\n",
    "\n"
   ]
  },
  {
   "cell_type": "code",
   "execution_count": 145,
   "metadata": {
    "collapsed": false
   },
   "outputs": [
    {
     "data": {
      "text/plain": [
       "'receipts@waveapps.com'"
      ]
     },
     "execution_count": 145,
     "metadata": {},
     "output_type": "execute_result"
    }
   ],
   "source": [
    "Token[2]"
   ]
  },
  {
   "cell_type": "code",
   "execution_count": 19,
   "metadata": {
    "collapsed": false
   },
   "outputs": [
    {
     "data": {
      "text/plain": [
       "'Reece Account Bill\\n09/05/2017\\nAmount Due since last email $572.0'"
      ]
     },
     "execution_count": 19,
     "metadata": {},
     "output_type": "execute_result"
    }
   ],
   "source": [
    "import time\n",
    "\n",
    "## dd/mm/yyyy format\n",
    "#print (time.strftime(\"%d/%m/%Y\"))\n",
    "date = time.strftime(\"%d/%m/%Y\")\n",
    "date\n",
    "body = \"Reece Account Bill\\n%s\\nAmount Due since last email %s\" % (date, DollarBal)\n",
    "body"
   ]
  },
  {
   "cell_type": "code",
   "execution_count": 36,
   "metadata": {
    "collapsed": false
   },
   "outputs": [
    {
     "data": {
      "text/plain": [
       "'coldonohue@gmail.com'"
      ]
     },
     "execution_count": 36,
     "metadata": {},
     "output_type": "execute_result"
    }
   ],
   "source": [
    "#Email account config details\n",
    "\n",
    "file = open('../../../Teal_config/config.txt', 'r')\n",
    "\n",
    "Filecontents=file.read()\n",
    "Token=[Filecontents[6:26], Filecontents[34:40]]\n",
    "Token\n",
    "Token[0]"
   ]
  },
  {
   "cell_type": "code",
   "execution_count": 133,
   "metadata": {
    "collapsed": false
   },
   "outputs": [
    {
     "data": {
      "text/plain": [
       "''"
      ]
     },
     "execution_count": 133,
     "metadata": {},
     "output_type": "execute_result"
    }
   ],
   "source": [
    "os.getcwd()\n",
    "os.path.dirname(\"ReeceBal.txt\")"
   ]
  },
  {
   "cell_type": "code",
   "execution_count": null,
   "metadata": {
    "collapsed": true
   },
   "outputs": [],
   "source": [
    "try:  \n",
    "    server_ssl = smtplib.SMTP_SSL('smtp.gmail.com', 465)\n",
    "    server_ssl.ehlo()   # optional\n",
    "    # ...send emails\n",
    "    sent_from = 'Token[0]'  \n",
    "    to = ['myaddress@mail.com']  \n",
    "    subject = 'Reece Account Bill'  \n",
    "    body = \"Reece Account Bill\\n%s\\nAmount Due since last email %s\" % (date, DollarBal)\n",
    "\n",
    "    email_text = \"\"\"\\  \n",
    "    From: %s  \n",
    "    To: %s  \n",
    "    Subject: %s\n",
    "\n",
    "    %s\n",
    "    \"\"\" % (sent_from, \", \".join(to), subject, body)\n",
    "    \n",
    "except:  \n",
    "    print 'Something went wrong...'"
   ]
  },
  {
   "cell_type": "code",
   "execution_count": 139,
   "metadata": {
    "collapsed": false
   },
   "outputs": [
    {
     "data": {
      "text/plain": [
       "['__all__',\n",
       " '__builtins__',\n",
       " '__cached__',\n",
       " '__doc__',\n",
       " '__file__',\n",
       " '__loader__',\n",
       " '__name__',\n",
       " '__package__',\n",
       " '__spec__',\n",
       " '_bencode',\n",
       " '_encodestring',\n",
       " '_qencode',\n",
       " 'encode_7or8bit',\n",
       " 'encode_base64',\n",
       " 'encode_noop',\n",
       " 'encode_quopri']"
      ]
     },
     "execution_count": 139,
     "metadata": {},
     "output_type": "execute_result"
    }
   ],
   "source": [
    "import email\n",
    "\n",
    "dir(email.encoders)\n",
    "\n",
    "#from email import mime\n",
    "#dir(mime)"
   ]
  },
  {
   "cell_type": "code",
   "execution_count": 80,
   "metadata": {
    "collapsed": false
   },
   "outputs": [
    {
     "data": {
      "text/plain": [
       "'05'"
      ]
     },
     "execution_count": 80,
     "metadata": {},
     "output_type": "execute_result"
    }
   ],
   "source": [
    "month = time.strftime(\"%m\")\n",
    "month"
   ]
  },
  {
   "cell_type": "code",
   "execution_count": 73,
   "metadata": {
    "collapsed": false
   },
   "outputs": [
    {
     "data": {
      "text/plain": [
       "'Mar'"
      ]
     },
     "execution_count": 73,
     "metadata": {},
     "output_type": "execute_result"
    }
   ],
   "source": [
    "#date = time.strftime(\"%m\")\n",
    "import calendar\n",
    "calendar.month_abbr[3]"
   ]
  },
  {
   "cell_type": "code",
   "execution_count": 113,
   "metadata": {
    "collapsed": false
   },
   "outputs": [
    {
     "data": {
      "text/plain": [
       "['coldonohue@gmail.com',\n",
       " 'vision',\n",
       " 'receipts@waveapps.com',\n",
       " 'elmagreene@gmail.com',\n",
       " 'https://www.reece.com.au/payment/account/19266D0A1776030D2E4BF01A16BDB162BA40A4E68F86C37E']"
      ]
     },
     "execution_count": 113,
     "metadata": {},
     "output_type": "execute_result"
    }
   ],
   "source": [
    "#load config details \n",
    "file = open('../../../Teal_config/config.txt', 'r')\n",
    "\n",
    "Filecontents=file.read()\n",
    "Token=[Filecontents[6:26], Filecontents[34:40], Filecontents[50:71],Filecontents[83:103], Filecontents[111:200]]\n",
    "Token"
   ]
  },
  {
   "cell_type": "code",
   "execution_count": null,
   "metadata": {
    "collapsed": true
   },
   "outputs": [],
   "source": []
  }
 ],
 "metadata": {
  "kernelspec": {
   "display_name": "Python 3",
   "language": "python",
   "name": "python3"
  },
  "language_info": {
   "codemirror_mode": {
    "name": "ipython",
    "version": 3
   },
   "file_extension": ".py",
   "mimetype": "text/x-python",
   "name": "python",
   "nbconvert_exporter": "python",
   "pygments_lexer": "ipython3",
   "version": "3.6.0"
  }
 },
 "nbformat": 4,
 "nbformat_minor": 2
}
