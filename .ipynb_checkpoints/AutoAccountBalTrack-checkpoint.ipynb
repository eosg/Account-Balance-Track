{
 "cells": [
  {
   "cell_type": "markdown",
   "metadata": {
    "collapsed": false
   },
   "source": [
    "# Extract Reece Account Balance"
   ]
  },
  {
   "cell_type": "code",
   "execution_count": 3,
   "metadata": {
    "collapsed": false
   },
   "outputs": [
    {
     "name": "stdout",
     "output_type": "stream",
     "text": [
      "\u001b[3mReece Account Balance = $1,686\n"
     ]
    }
   ],
   "source": [
    "# Get data from website\n",
    "from six.moves.urllib.request import urlopen\n",
    "link = \"https://www.reece.com.au/payment/account/19266D0A1776030D2E4BF01A16BDB162BA40A4E68F86C37E\"\n",
    "response = urlopen(link)\n",
    "content = response.read()\n",
    "#Convert content to a string\n",
    "str1 = content.decode(\"utf-8\")\n",
    "\n",
    "#Find index of RECENT in the webpage text\n",
    "RecentInd=str1.find(\"RECENT\")\n",
    "\n",
    "#Find the next $ after recent\n",
    "DollarInd=str1.find(\"$\", RecentInd)\n",
    "\n",
    "#Find the balance\n",
    "DollarBal=str1[DollarInd:DollarInd+6]\n",
    "\n",
    "#Write Dollar Balance into a file\n",
    "f= open(\"ReeceBal.txt\",\"w+\")\n",
    "f.write(\"Current Reece Balance is %s\\r\\n\" % DollarBal)\n",
    "f.close() \n",
    "\n",
    "print ('\\033[3m' + \"Reece Account Balance = %s\" % DollarBal)\n"
   ]
  },
  {
   "cell_type": "markdown",
   "metadata": {},
   "source": [
    "# Extract Reece Account Balance, Individual steps & debuging"
   ]
  },
  {
   "cell_type": "code",
   "execution_count": 61,
   "metadata": {
    "collapsed": false
   },
   "outputs": [
    {
     "name": "stdout",
     "output_type": "stream",
     "text": [
      "b'\\r\\n\\r\\n\\r\\n\\r\\n\\r\\n\\r\\n<!DOCTYPE html>\\r\\n<html lang=\"en\">\\r\\n<head>\\r\\n    <meta charset=\"utf-8\">\\r\\n    <meta http-equiv=\"X-UA-Compatible\" content=\"IE=9; IE=8\" />\\r\\n    <title>QuickPay</title>\\r\\n    <meta name=\"viewport\" content=\"width=device-width, initial-scale=1.0\">\\r\\n\\r\\n    <!-- Le styles -->\\r\\n    <script type=\"text/javascript\">var NREUMQ=NREUMQ||[];NREUMQ.push([\"mark\",\"firstbyte\",new Date().getTime()]);</script><link href=\"/payment/css/bootstrap.min.css\" rel=\"stylesheet\">\\r\\n    <link href=\"/payment/css/bootstrap-responsive.min.css\" rel=\"stylesheet\">\\r\\n    <link href=\"/payment/css/main.css\" rel=\"stylesheet\">\\r\\n\\r\\n    <!-- HTML5 shim, for IE6-8 support of HTML5 elements, must be included in HEAD -->\\r\\n    <!--[if lt IE 9]>\\r\\n    <script src=\"/payment/js/vendor/html5shiv.js\"></script>\\r\\n    <![endif]-->\\r\\n\\r\\n</head>\\r\\n\\r\\n<body>\\r\\n<div id=\"page-header\">\\r\\n    <img id=\"company-logo\" src=\"/assets/sites/1/reece-logo.png\"/>\\r\\n    <a id=\"myaccount-link\" href=\"/myaccount/login\">\\r\\n        <span id=\"user-icon\"></span>\\r\\n        <span>My Account</span>\\r\\n    </a>\\r\\n</div>\\r\\n\\r\\n<div class=\"container\">\\r\\n    <div id=\"header-panel\">\\r\\n        <div id=\"quick-pay-logo\" class=\"\"></div>\\r\\n        <p>\\r\\n            Thank you for choosing to pay your account with <span class=\"quick-pay\">QuickPay</span>, the simplest\\r\\n            way to pay your account. Confirm the periods you wish to pay on the checkbox below and\\r\\n            proceed using the <span class=\"quick-pay\">QuickPay</span> button.\\r\\n        </p>\\r\\n    </div>\\r\\n\\r\\n    <div class=\"row\">\\r\\n        <div class=\"span6\">\\r\\n            <div id=\"account-balance-panel\" class=\"panel\">\\r\\n                <div class=\"title\">Your current account is aged as follows</div>\\r\\n\\r\\n                <ul class=\"list\">\\r\\n                    <li>\\r\\n                        <div class=\"header\">\\r\\n                            <span class=\"period\">Period</span>\\r\\n                            <span class=\"amount\">Amount</span>\\r\\n                            <span class=\"toggle\">QuickPay</span>\\r\\n                        </div>\\r\\n                    </li>\\r\\n                    \\r\\n                    <li>\\r\\n                        <div id=\"bucket-OVERDUE\" class=\"line odd-line\">\\r\\n                            <span class=\"period\">Overdue</span>\\r\\n                            <span class=\"amount\" value=\"0.00\">\\r\\n                                $0.00</span>\\r\\n                            <input type=\"checkbox\" class=\"toggle\"/>\\r\\n                        </div>\\r\\n                    </li>\\r\\n                    \\r\\n                    <li>\\r\\n                        <div id=\"bucket-DUE_END_OF_MONTH\" class=\"line even-line payable\">\\r\\n                            <span class=\"period\">Due End Of Month</span>\\r\\n                            <span class=\"amount\" value=\"744.56\">\\r\\n                                $744.56</span>\\r\\n                            <input type=\"checkbox\" class=\"toggle\"/>\\r\\n                        </div>\\r\\n                    </li>\\r\\n                    \\r\\n                    <li>\\r\\n                        <div id=\"bucket-RECENT\" class=\"line odd-line payable\">\\r\\n                            <span class=\"period\">Recent</span>\\r\\n                            <span class=\"amount\" value=\"1686.69\">\\r\\n                                $1,686.69</span>\\r\\n                            <input type=\"checkbox\" class=\"toggle\"/>\\r\\n                        </div>\\r\\n                    </li>\\r\\n                    \\r\\n                    <li>\\r\\n                        <div id=\"bucket-TOTAL\" class=\"line even-line payable\">\\r\\n                            <span class=\"period\">Account Balance</span>\\r\\n                            <span class=\"amount\" value=\"2431.25\">\\r\\n                                $2,431.25</span>\\r\\n                            <input type=\"checkbox\" class=\"toggle\"/>\\r\\n                        </div>\\r\\n                    </li>\\r\\n                    \\r\\n                </ul>\\r\\n                \\r\\n                <div id=\"pay-button-container\">\\r\\n                    <span id=\"total-amount\"></span>\\r\\n                    <button id=\"pay-button\" class=\"pay-button img-btn\"></button>\\r\\n                </div>\\r\\n            </div>\\r\\n        </div>\\r\\n\\r\\n        <div class=\"span6\">\\r\\n            \\r\\n                <div id=\"pending-payment-panel\" class=\"panel\">\\r\\n                    <div id=\"pending-payment-icon\"></div>\\r\\n                    <div id=\\'pending-payment-content\\'>\\r\\n                        <div>\\r\\n                            <span>Your account has </span>\\r\\n                            <span id=\"pending-payment-text\">1 Pending Payment:</span>\\r\\n                        </div>\\r\\n\\r\\n                        <ul class=\"list\">\\r\\n                            \\r\\n                                <li>\\r\\n                                    <div class=\"line\">\\r\\n                                        <span>26 April 2017</span>\\r\\n                                        <span> - made via QuickPay for the sum of </span>\\r\\n                                        <span>$744.56 </span>\\r\\n                                        \\r\\n                                            <span>(receipt: <a class=\"receipt-link\" href=\"#\" token=\"057FBE6E3F43B7FB5210CD9530ADCF33A9FA1CE724ADCE52\">1929868334</a>)</span>\\r\\n                                        \\r\\n                                    </div>\\r\\n                                </li>\\r\\n                            \\r\\n                        </ul>\\r\\n                    </div>\\r\\n                </div>\\r\\n            \\r\\n        </div>\\r\\n    </div>\\r\\n\\r\\n    <div class=\"row\">\\r\\n        <div class=\"additional-info-splitter\"></div>\\r\\n        <div class=\"additional-info-splitter-text span12\">\\r\\n            Additional account information\\r\\n        </div>\\r\\n    </div>\\r\\n\\r\\n    <div class=\"row\">\\r\\n        <div class=\"span6\">\\r\\n            <div id=\"payment-history-panel\" class=\"collapsible-panel\">\\r\\n                <div class=\"collapsed-content\">\\r\\n                    <div class=\"title\">Recent Payments</div>\\r\\n                    <div class=\"description\">Latest payments applied to your account.</div>\\r\\n                    <div class=\"collapsible-icon\"></div>\\r\\n                </div>\\r\\n\\r\\n                <div class=\"collapsible\">\\r\\n                    \\r\\n                    \\r\\n                        <ul class=\"list\">\\r\\n                            <li>\\r\\n                                <div class=\"header\">\\r\\n                                    <span class=\"processed-date\">Date</span>\\r\\n                                    <span class=\"payment-ref\"></span>\\r\\n                                    <span class=\"payment-amount\">Amount</span>\\r\\n                                </div>\\r\\n                            </li>\\r\\n                            \\r\\n                                <li>\\r\\n                                    <div class=\"line odd-line\">\\r\\n                                        <span class=\"processed-date\">10/03/2017</span>\\r\\n                                        <span class=\"payment-ref\">QuickPay -\\r\\n                                            \\r\\n                                                <a class=\"receipt-link\" href=\"#\" token=\"09A18A0961928B40ED6DEEE1F1447D0F4311BF2B43102289\">1901161934</a>\\r\\n                                            \\r\\n                                        </span>\\r\\n                                        <span class=\"payment-amount\">$1,434.72</span>\\r\\n                                    </div>\\r\\n                                </li>\\r\\n                            \\r\\n                        </ul>\\r\\n                    \\r\\n                </div>\\r\\n            </div>\\r\\n        </div>\\r\\n\\r\\n        <div class=\"span6\">\\r\\n            <div id=\"statement-panel\" class=\"collapsible-panel\">\\r\\n                <div class=\"collapsed-content\">\\r\\n                    <div class=\"title\">Latest Statements</div>\\r\\n                    <div class=\"description\">Statements from the last 12 months.</div>\\r\\n                    <div class=\"collapsible-icon\"></div>\\r\\n                </div>\\r\\n\\r\\n                <div class=\"collapsible\">\\r\\n                    \\r\\n                    \\r\\n                        <ul class=\"list\">\\r\\n                            \\r\\n                                <li>\\r\\n                                    <a class=\"link-button\" target=\"_blank\" href=\"statements/56AFD9A75DCB47BDBA1A38BB2E03F2991B1792920B17A49C/statement_171578_2017_03\">Mar 2017</a>\\r\\n                                </li>\\r\\n                            \\r\\n                                <li>\\r\\n                                    <a class=\"link-button\" target=\"_blank\" href=\"statements/2A4C2E6E2F2348229BEC6D1CD49BC492AA74885E3ED9542F/statement_171578_2017_02\">Feb 2017</a>\\r\\n                                </li>\\r\\n                            \\r\\n                        </ul>\\r\\n                    \\r\\n                </div>\\r\\n            </div>\\r\\n        </div>\\r\\n    </div>\\r\\n</div>\\r\\n<script src=\"/payment/js/vendor/jquery-1.8.2.min.js\"></script>\\r\\n<script src=\"/payment/js/account.js\"></script>\\r\\n<script type=\"text/javascript\">if (!NREUMQ.f) { NREUMQ.f=function() {NREUMQ.push([\"load\",new Date().getTime()]);var e=document.createElement(\"script\");e.type=\"text/javascript\";e.src=((\"http:\"===document.location.protocol)?\"http:\":\"https:\") + \"//\" + \"js-agent.newrelic.com/nr-100.js\";document.body.appendChild(e);if(NREUMQ.a)NREUMQ.a();};NREUMQ.a=window.onload;window.onload=NREUMQ.f;};NREUMQ.push([\"nrfj\",\"bam.nr-data.net\",\"0f9ea911ae\",\"2752783\",\"bwdXYhMDDRIFBk0KX1ZNe1kTDwINDR9cB2VKCxpGABsOBAoRFgJTWw1AWBVNSQ==\",0,673,new Date().getTime(),\"\",\"\",\"\",\"\",\"\"]);</script></body>\\r\\n</html>\\r\\n'\n"
     ]
    }
   ],
   "source": [
    "from six.moves.urllib.request import urlopen\n",
    "link = \"https://www.reece.com.au/payment/account/19266D0A1776030D2E4BF01A16BDB162BA40A4E68F86C37E\"\n",
    "response = urlopen(link)\n",
    "content = response.read()\n",
    "print(content)"
   ]
  },
  {
   "cell_type": "code",
   "execution_count": 2,
   "metadata": {
    "collapsed": false
   },
   "outputs": [
    {
     "data": {
      "text/plain": [
       "bytes"
      ]
     },
     "execution_count": 2,
     "metadata": {},
     "output_type": "execute_result"
    }
   ],
   "source": [
    "type(content)"
   ]
  },
  {
   "cell_type": "code",
   "execution_count": 3,
   "metadata": {
    "collapsed": false
   },
   "outputs": [
    {
     "data": {
      "text/plain": [
       "http.client.HTTPResponse"
      ]
     },
     "execution_count": 3,
     "metadata": {},
     "output_type": "execute_result"
    }
   ],
   "source": [
    "type(response)"
   ]
  },
  {
   "cell_type": "code",
   "execution_count": 43,
   "metadata": {
    "collapsed": false
   },
   "outputs": [],
   "source": [
    "#Convert content to a string\n",
    "str1 = content.decode(\"utf-8\")"
   ]
  },
  {
   "cell_type": "code",
   "execution_count": 41,
   "metadata": {
    "collapsed": false
   },
   "outputs": [
    {
     "data": {
      "text/plain": [
       "3211"
      ]
     },
     "execution_count": 41,
     "metadata": {},
     "output_type": "execute_result"
    }
   ],
   "source": [
    "#Find index of RECENT in the webpage text\n",
    "RecentInd=str1.find(\"RECENT\")\n",
    "#Find the next $ after recent\n",
    "DollarInd=str1.find(\"$\", RecentInd)\n",
    "DollarInd"
   ]
  },
  {
   "cell_type": "code",
   "execution_count": 44,
   "metadata": {
    "collapsed": false,
    "scrolled": true
   },
   "outputs": [
    {
     "data": {
      "text/plain": [
       "'$1,686'"
      ]
     },
     "execution_count": 44,
     "metadata": {},
     "output_type": "execute_result"
    }
   ],
   "source": [
    "#Find the balance\n",
    "DollarBal=str1[DollarInd:DollarInd+6]\n",
    "DollarBal"
   ]
  },
  {
   "cell_type": "code",
   "execution_count": 60,
   "metadata": {
    "collapsed": true
   },
   "outputs": [],
   "source": [
    "#Write Dollar Balance into a file\n",
    "f= open(\"ReeceBal.txt\",\"w+\")\n",
    "f.write(\"Current Reece Balance is %s\\r\\n\" % DollarBal)\n",
    "f.close() "
   ]
  },
  {
   "cell_type": "code",
   "execution_count": null,
   "metadata": {
    "collapsed": false
   },
   "outputs": [],
   "source": []
  },
  {
   "cell_type": "code",
   "execution_count": null,
   "metadata": {
    "collapsed": true
   },
   "outputs": [],
   "source": []
  }
 ],
 "metadata": {
  "kernelspec": {
   "display_name": "Python 3",
   "language": "python",
   "name": "python3"
  },
  "language_info": {
   "codemirror_mode": {
    "name": "ipython",
    "version": 3
   },
   "file_extension": ".py",
   "mimetype": "text/x-python",
   "name": "python",
   "nbconvert_exporter": "python",
   "pygments_lexer": "ipython3",
   "version": "3.6.0"
  }
 },
 "nbformat": 4,
 "nbformat_minor": 2
}
